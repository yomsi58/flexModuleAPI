{
 "cells": [
  {
   "cell_type": "markdown",
   "id": "7196054f",
   "metadata": {},
   "source": [
    "# Working with APIs"
   ]
  },
  {
   "cell_type": "markdown",
   "id": "0547b71e",
   "metadata": {},
   "source": [
    "API stands for Application programming interface<br>\n",
    "APIs are a way for applications to talk to eachother<br>\n",
    "In python we use the requests package to handle the connection<br>\n",
    "<small><strong>Note: It is requests with an s not request(this is a different package)</strong></small><br>\n",
    "Most API's communicate with data in the form of JSON<br>\n",
    "JSON stands for JavaScript Object Notation"
   ]
  },
  {
   "cell_type": "code",
   "execution_count": 2,
   "id": "4db9d154",
   "metadata": {},
   "outputs": [],
   "source": [
    "#import the packages we need:\n",
    "import requests, json"
   ]
  },
  {
   "cell_type": "markdown",
   "id": "e8c2ce51",
   "metadata": {},
   "source": [
    "We will be connecting to the Ergast F1 Racer API today:\n",
    "http://ergast.com/mrd/\n",
    "\n",
    "to view JSON data nicely in the Chrome browser install the extension JSONview"
   ]
  },
  {
   "cell_type": "code",
   "execution_count": 4,
   "id": "52c440c6",
   "metadata": {},
   "outputs": [],
   "source": [
    "# help(requests)"
   ]
  },
  {
   "cell_type": "code",
   "execution_count": 5,
   "id": "f60c1b4a",
   "metadata": {},
   "outputs": [],
   "source": [
    "url = 'http://ergast.com/api/f1/2008/5/driverStandings.json'"
   ]
  },
  {
   "cell_type": "code",
   "execution_count": 2,
   "id": "7b63a204",
   "metadata": {},
   "outputs": [],
   "source": [
    "#response object\n"
   ]
  },
  {
   "cell_type": "code",
   "execution_count": 1,
   "id": "c6d1fdaf",
   "metadata": {},
   "outputs": [],
   "source": [
    "#check and make sure we got a successful response from the API\n"
   ]
  },
  {
   "cell_type": "code",
   "execution_count": 3,
   "id": "ed4d3256",
   "metadata": {},
   "outputs": [],
   "source": [
    "#view the response as a JSON\n"
   ]
  },
  {
   "cell_type": "code",
   "execution_count": null,
   "id": "92e6cd2c",
   "metadata": {},
   "outputs": [],
   "source": []
  },
  {
   "cell_type": "code",
   "execution_count": 4,
   "id": "f074dfcf",
   "metadata": {},
   "outputs": [],
   "source": [
    "# We only want the Driver Standings\n"
   ]
  },
  {
   "cell_type": "code",
   "execution_count": null,
   "id": "be46a950",
   "metadata": {},
   "outputs": [],
   "source": []
  },
  {
   "cell_type": "code",
   "execution_count": null,
   "id": "3740c752",
   "metadata": {},
   "outputs": [],
   "source": []
  },
  {
   "cell_type": "markdown",
   "id": "6d546014",
   "metadata": {},
   "source": [
    "# <strong>Homework</strong>\n",
    "check out this Pokemon API https://pokeapi.co/\n",
    "Use the requests package to connect to this API and get and store data for 20 different pokemon.\n",
    "Get the pokemons: name, atleast one ability's name, base_experience, and the URL for its sprite (an image that shows up on screen) for the 'front_shiny', attack base_state, hp base_stat, defense base_stat"
   ]
  },
  {
   "cell_type": "code",
   "execution_count": 1,
   "id": "5a9081e3",
   "metadata": {},
   "outputs": [
    {
     "name": "stdout",
     "output_type": "stream",
     "text": [
      "[{'name': 'bulbasaur', 'ability': 'overgrow', 'base_experience': 64, 'sprite_url': 'https://raw.githubusercontent.com/PokeAPI/sprites/master/sprites/pokemon/shiny/1.png', 'attack': 49, 'hp': 45, 'defense': 49}, {'name': 'ivysaur', 'ability': 'overgrow', 'base_experience': 142, 'sprite_url': 'https://raw.githubusercontent.com/PokeAPI/sprites/master/sprites/pokemon/shiny/2.png', 'attack': 62, 'hp': 60, 'defense': 63}, {'name': 'venusaur', 'ability': 'overgrow', 'base_experience': 263, 'sprite_url': 'https://raw.githubusercontent.com/PokeAPI/sprites/master/sprites/pokemon/shiny/3.png', 'attack': 82, 'hp': 80, 'defense': 83}, {'name': 'charmander', 'ability': 'blaze', 'base_experience': 62, 'sprite_url': 'https://raw.githubusercontent.com/PokeAPI/sprites/master/sprites/pokemon/shiny/4.png', 'attack': 52, 'hp': 39, 'defense': 43}, {'name': 'charmeleon', 'ability': 'blaze', 'base_experience': 142, 'sprite_url': 'https://raw.githubusercontent.com/PokeAPI/sprites/master/sprites/pokemon/shiny/5.png', 'attack': 64, 'hp': 58, 'defense': 58}, {'name': 'charizard', 'ability': 'blaze', 'base_experience': 267, 'sprite_url': 'https://raw.githubusercontent.com/PokeAPI/sprites/master/sprites/pokemon/shiny/6.png', 'attack': 84, 'hp': 78, 'defense': 78}, {'name': 'squirtle', 'ability': 'torrent', 'base_experience': 63, 'sprite_url': 'https://raw.githubusercontent.com/PokeAPI/sprites/master/sprites/pokemon/shiny/7.png', 'attack': 48, 'hp': 44, 'defense': 65}, {'name': 'wartortle', 'ability': 'torrent', 'base_experience': 142, 'sprite_url': 'https://raw.githubusercontent.com/PokeAPI/sprites/master/sprites/pokemon/shiny/8.png', 'attack': 63, 'hp': 59, 'defense': 80}, {'name': 'blastoise', 'ability': 'torrent', 'base_experience': 265, 'sprite_url': 'https://raw.githubusercontent.com/PokeAPI/sprites/master/sprites/pokemon/shiny/9.png', 'attack': 83, 'hp': 79, 'defense': 100}, {'name': 'caterpie', 'ability': 'shield-dust', 'base_experience': 39, 'sprite_url': 'https://raw.githubusercontent.com/PokeAPI/sprites/master/sprites/pokemon/shiny/10.png', 'attack': 30, 'hp': 45, 'defense': 35}, {'name': 'metapod', 'ability': 'shed-skin', 'base_experience': 72, 'sprite_url': 'https://raw.githubusercontent.com/PokeAPI/sprites/master/sprites/pokemon/shiny/11.png', 'attack': 20, 'hp': 50, 'defense': 55}, {'name': 'butterfree', 'ability': 'compound-eyes', 'base_experience': 198, 'sprite_url': 'https://raw.githubusercontent.com/PokeAPI/sprites/master/sprites/pokemon/shiny/12.png', 'attack': 45, 'hp': 60, 'defense': 50}, {'name': 'weedle', 'ability': 'shield-dust', 'base_experience': 39, 'sprite_url': 'https://raw.githubusercontent.com/PokeAPI/sprites/master/sprites/pokemon/shiny/13.png', 'attack': 35, 'hp': 40, 'defense': 30}, {'name': 'kakuna', 'ability': 'shed-skin', 'base_experience': 72, 'sprite_url': 'https://raw.githubusercontent.com/PokeAPI/sprites/master/sprites/pokemon/shiny/14.png', 'attack': 25, 'hp': 45, 'defense': 50}, {'name': 'beedrill', 'ability': 'swarm', 'base_experience': 178, 'sprite_url': 'https://raw.githubusercontent.com/PokeAPI/sprites/master/sprites/pokemon/shiny/15.png', 'attack': 90, 'hp': 65, 'defense': 40}, {'name': 'pidgey', 'ability': 'keen-eye', 'base_experience': 50, 'sprite_url': 'https://raw.githubusercontent.com/PokeAPI/sprites/master/sprites/pokemon/shiny/16.png', 'attack': 45, 'hp': 40, 'defense': 40}, {'name': 'pidgeotto', 'ability': 'keen-eye', 'base_experience': 122, 'sprite_url': 'https://raw.githubusercontent.com/PokeAPI/sprites/master/sprites/pokemon/shiny/17.png', 'attack': 60, 'hp': 63, 'defense': 55}, {'name': 'pidgeot', 'ability': 'keen-eye', 'base_experience': 216, 'sprite_url': 'https://raw.githubusercontent.com/PokeAPI/sprites/master/sprites/pokemon/shiny/18.png', 'attack': 80, 'hp': 83, 'defense': 75}, {'name': 'rattata', 'ability': 'run-away', 'base_experience': 51, 'sprite_url': 'https://raw.githubusercontent.com/PokeAPI/sprites/master/sprites/pokemon/shiny/19.png', 'attack': 56, 'hp': 30, 'defense': 35}, {'name': 'raticate', 'ability': 'run-away', 'base_experience': 145, 'sprite_url': 'https://raw.githubusercontent.com/PokeAPI/sprites/master/sprites/pokemon/shiny/20.png', 'attack': 81, 'hp': 55, 'defense': 60}]\n"
     ]
    }
   ],
   "source": [
    "# Import the requests package\n",
    "import requests\n",
    "\n",
    "# Create an empty list to store the data\n",
    "pokemon_data = []\n",
    "\n",
    "# Loop over 20 different pokemon ids\n",
    "for i in range(1, 21):\n",
    "    # Get the response from the API for each pokemon\n",
    "    response = requests.get(f\"https://pokeapi.co/api/v2/pokemon/{i}\")\n",
    "    # Check if the response is successful\n",
    "    if response.status_code == 200:\n",
    "        # Convert the response to JSON format\n",
    "        data = response.json()\n",
    "        # Get the pokemon name, one ability name, base_experience, and front_shiny sprite URL\n",
    "        name = data[\"name\"]\n",
    "        ability = data[\"abilities\"][0][\"ability\"][\"name\"]\n",
    "        base_experience = data[\"base_experience\"]\n",
    "        sprite_url = data[\"sprites\"][\"front_shiny\"]\n",
    "        # Get the attack, hp, and defense base stats\n",
    "        stats = data[\"stats\"]\n",
    "        attack = stats[1][\"base_stat\"]\n",
    "        hp = stats[0][\"base_stat\"]\n",
    "        defense = stats[2][\"base_stat\"]\n",
    "        # Create a dictionary with the required data\n",
    "        pokemon_dict = {\n",
    "            \"name\": name,\n",
    "            \"ability\": ability,\n",
    "            \"base_experience\": base_experience,\n",
    "            \"sprite_url\": sprite_url,\n",
    "            \"attack\": attack,\n",
    "            \"hp\": hp,\n",
    "            \"defense\": defense\n",
    "        }\n",
    "        # Append the dictionary to the list\n",
    "        pokemon_data.append(pokemon_dict)\n",
    "    else:\n",
    "        # Print an error message if the response is not successful\n",
    "        print(f\"Error: Could not get data for pokemon {i}\")\n",
    "\n",
    "# Print the list of pokemon data\n",
    "print(pokemon_data)"
   ]
  }
 ],
 "metadata": {
  "kernelspec": {
   "display_name": "Python 3 (ipykernel)",
   "language": "python",
   "name": "python3"
  },
  "language_info": {
   "codemirror_mode": {
    "name": "ipython",
    "version": 3
   },
   "file_extension": ".py",
   "mimetype": "text/x-python",
   "name": "python",
   "nbconvert_exporter": "python",
   "pygments_lexer": "ipython3",
   "version": "3.11.4"
  }
 },
 "nbformat": 4,
 "nbformat_minor": 5
}
